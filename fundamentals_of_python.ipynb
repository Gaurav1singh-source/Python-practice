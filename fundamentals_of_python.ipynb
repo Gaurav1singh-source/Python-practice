{
  "nbformat": 4,
  "nbformat_minor": 0,
  "metadata": {
    "colab": {
      "provenance": []
    },
    "kernelspec": {
      "name": "python3",
      "display_name": "Python 3"
    },
    "language_info": {
      "name": "python"
    }
  },
  "cells": [
    {
      "cell_type": "markdown",
      "source": [
        "#**print()**\\\n",
        "In Python, the print() function is used to display output on the screen."
      ],
      "metadata": {
        "id": "199ZjUjxeIJR"
      }
    },
    {
      "cell_type": "code",
      "source": [
        "print(\"Hello, World!\")"
      ],
      "metadata": {
        "colab": {
          "base_uri": "https://localhost:8080/"
        },
        "id": "PJNpgXA0d_41",
        "outputId": "190d75b6-09e0-4b7a-ba9f-8771ddf0a10c"
      },
      "execution_count": 1,
      "outputs": [
        {
          "output_type": "stream",
          "name": "stdout",
          "text": [
            "Hello, World!\n"
          ]
        }
      ]
    },
    {
      "cell_type": "code",
      "source": [
        "# Printing Multiple Values\n",
        "print(\"Python\", \"is\", \"awesome!\")"
      ],
      "metadata": {
        "colab": {
          "base_uri": "https://localhost:8080/"
        },
        "id": "rKcvKJVkfJnf",
        "outputId": "281747a3-9fd4-45de-ef87-4053db0958aa"
      },
      "execution_count": 2,
      "outputs": [
        {
          "output_type": "stream",
          "name": "stdout",
          "text": [
            "Python is awesome!\n"
          ]
        }
      ]
    },
    {
      "cell_type": "code",
      "source": [
        " #Using sep Parameter\n",
        " print(\"Python\", \"is\", \"awesome!\", sep=\"-\")"
      ],
      "metadata": {
        "colab": {
          "base_uri": "https://localhost:8080/"
        },
        "id": "x6Qx1tbifr8e",
        "outputId": "aa3531fa-193b-4807-a381-982a172dd481"
      },
      "execution_count": 3,
      "outputs": [
        {
          "output_type": "stream",
          "name": "stdout",
          "text": [
            "Python-is-awesome!\n"
          ]
        }
      ]
    },
    {
      "cell_type": "code",
      "source": [
        "#Using end Parameter\n",
        "print(\"Hello\", end=\" \")\n",
        "print(\"World!\")"
      ],
      "metadata": {
        "colab": {
          "base_uri": "https://localhost:8080/"
        },
        "id": "tvin6PKkgBkW",
        "outputId": "be809ed0-c8d1-458c-e7f3-5bb9de348a8b"
      },
      "execution_count": 4,
      "outputs": [
        {
          "output_type": "stream",
          "name": "stdout",
          "text": [
            "Hello World!\n"
          ]
        }
      ]
    },
    {
      "cell_type": "code",
      "source": [
        "#Printing with f-strings\n",
        "name = \"Gaurav Singh\"\n",
        "age = 25\n",
        "print(f\"My name is {name} and I am {age} years old.\")"
      ],
      "metadata": {
        "colab": {
          "base_uri": "https://localhost:8080/"
        },
        "id": "m54MQ5lchV3M",
        "outputId": "43da54d0-a7b0-42c8-ce40-32170c099536"
      },
      "execution_count": 5,
      "outputs": [
        {
          "output_type": "stream",
          "name": "stdout",
          "text": [
            "My name is Gaurav Singh and I am 25 years old.\n"
          ]
        }
      ]
    },
    {
      "cell_type": "markdown",
      "source": [
        "**Variables in Python:**"
      ],
      "metadata": {
        "id": "2ztWZLnciEn-"
      }
    },
    {
      "cell_type": "code",
      "source": [
        " #Printing Variables\n",
        "name = \"Gaurav Singh\"\n",
        "age = 25\n",
        "print(\"Name:\", name, \"Age:\", age)\n"
      ],
      "metadata": {
        "colab": {
          "base_uri": "https://localhost:8080/"
        },
        "id": "oV2O2fD5gOwP",
        "outputId": "9d3c7f21-34e7-4c86-d47f-c0ae8e15cef7"
      },
      "execution_count": 6,
      "outputs": [
        {
          "output_type": "stream",
          "name": "stdout",
          "text": [
            "Name: Gaurav Singh Age: 25\n"
          ]
        }
      ]
    },
    {
      "cell_type": "markdown",
      "source": [
        "**Must start with a letter (A-Z or a-z) or an underscore _**\\\n",
        "**Cannot start with a number**\n",
        "\n",
        "**Can contain letters, numbers, and underscores (_)**\\\n",
        "**Case-sensitive (age and Age are different)**\\\n",
        "**Cannot use Python keywords (e.g., def, class, return**\n",
        "\n",
        "✅ **Valid names: age, first_name, _score, temperature123**\\\n",
        "❌ **Invalid names: 2name, first-name, class**"
      ],
      "metadata": {
        "id": "MCo9gqzujxkC"
      }
    },
    {
      "cell_type": "code",
      "source": [
        "x = 10  # Integer\n",
        "name = \"gaurav\"  # String\n",
        "pi = 3.14  # Float\n",
        "is_active = True  # Boolean"
      ],
      "metadata": {
        "id": "_47FAt5PjpnL"
      },
      "execution_count": 7,
      "outputs": []
    },
    {
      "cell_type": "markdown",
      "source": [
        "**Data Types in Python**\n"
      ],
      "metadata": {
        "id": "aQHq9VTMnlvG"
      }
    },
    {
      "cell_type": "markdown",
      "source": [
        "\n",
        "int-\t10, -5, 1000\tWhole numbers\\\n",
        "float-\t3.14, -0.01\tDecimal numbers\\\n",
        "complex-\t2+3j, -1j\tComplex numbers\\\n",
        "str-\t\"Hello\"\tText (String)\\\n",
        "list-\t[1, 2, 3]\tOrdered, Changeable collection\\\n",
        "tuple\t-(1, 2, 3)\tOrdered, Unchangeable collection\\\n",
        "set-\t{1, 2, 3}\tUnordered, Unique values\\\n",
        "dict-\t{\"name\": \"A\"}\tKey-value pairs\\\n",
        "bool-\tTrue, False\tLogical True/False\\\n",
        "None-\tNone\tEmpty Value\\"
      ],
      "metadata": {
        "id": "lE5YmmHmMFR1"
      }
    },
    {
      "cell_type": "markdown",
      "source": [
        "**1. Numbers (Used for calculations)**\n",
        "\n",
        "Python supports three types of numbers:\n",
        "\n",
        "*int → Whole numbers (like 1, -5, 100)*\\\n",
        "*float → Numbers with decimals (like 3.14, -0.5)*\\\n",
        "*complex → Numbers with j (like 2+3j, -1j)*\\\n",
        "\n",
        "\n"
      ],
      "metadata": {
        "id": "qwUMIsL1M0nZ"
      }
    },
    {
      "cell_type": "code",
      "source": [
        "x = 10      # Integer (int)\n",
        "y = 3.14    # Decimal number (float)\n",
        "z = 2 + 3j  # Complex number\n",
        "\n",
        "print(type(x))\n",
        "print(type(y))\n",
        "print(type(z))\n",
        "\n",
        "\"\"\"\n",
        "x is a whole number, so it is an int.\\\n",
        "y has a decimal, so it is a float.\\\n",
        "z has j (imaginary part), so it is a complex number.\n",
        "\"\"\""
      ],
      "metadata": {
        "colab": {
          "base_uri": "https://localhost:8080/",
          "height": 87
        },
        "id": "YDAt1LddNZF3",
        "outputId": "8131b5e5-ab34-49ae-e0b6-9f95d6fd9e6f"
      },
      "execution_count": 8,
      "outputs": [
        {
          "output_type": "stream",
          "name": "stdout",
          "text": [
            "<class 'int'>\n",
            "<class 'float'>\n",
            "<class 'complex'>\n"
          ]
        },
        {
          "output_type": "execute_result",
          "data": {
            "text/plain": [
              "'\\nx is a whole number, so it is an int.y has a decimal, so it is a float.z has j (imaginary part), so it is a complex number.\\n'"
            ],
            "application/vnd.google.colaboratory.intrinsic+json": {
              "type": "string"
            }
          },
          "metadata": {},
          "execution_count": 8
        }
      ]
    },
    {
      "cell_type": "markdown",
      "source": [
        "\n",
        "\n",
        "**2.   String (str)**\n",
        "\n",
        "\n"
      ],
      "metadata": {
        "id": "t1wzyzaIi0Po"
      }
    },
    {
      "cell_type": "code",
      "source": [
        "name = \"Gaurav\"\n",
        "print(type(name))"
      ],
      "metadata": {
        "colab": {
          "base_uri": "https://localhost:8080/"
        },
        "id": "RsU5nptzivSz",
        "outputId": "71af11cc-10a2-499a-8706-9af54262d8ce"
      },
      "execution_count": 9,
      "outputs": [
        {
          "output_type": "stream",
          "name": "stdout",
          "text": [
            "<class 'str'>\n"
          ]
        }
      ]
    },
    {
      "cell_type": "markdown",
      "source": [
        "**3. Sequence Types (Ordered Collections)**"
      ],
      "metadata": {
        "id": "a8mt1r2xRS8N"
      }
    },
    {
      "cell_type": "code",
      "source": [
        "# List - Ordered, changeable, allows duplicates\n",
        "my_list = [1, 2, 3, \"apple\"]\n",
        "print(type(my_list))  # Output: <class 'list'>\n",
        "\n",
        "# Tuple - Ordered, unchangeable, allows duplicates\n",
        "my_tuple = (10, \"banana\", 3.5)\n",
        "print(type(my_tuple))  # Output: <class 'tuple'>\n",
        "\n",
        "# Range - Sequence of numbers\n",
        "r = range(5)  # Generates numbers 0 to 4\n",
        "print(list(r))  # Output: [0, 1, 2, 3, 4]\n",
        "print(type(r))  # Output: <class 'range'>"
      ],
      "metadata": {
        "id": "gJ-h4L5YhgjG",
        "colab": {
          "base_uri": "https://localhost:8080/"
        },
        "outputId": "0e03df4a-435d-4070-df18-07519f223ced"
      },
      "execution_count": 10,
      "outputs": [
        {
          "output_type": "stream",
          "name": "stdout",
          "text": [
            "<class 'list'>\n",
            "<class 'tuple'>\n",
            "[0, 1, 2, 3, 4]\n",
            "<class 'range'>\n"
          ]
        }
      ]
    },
    {
      "cell_type": "markdown",
      "source": [
        "**4. Set Types (Unordered Collections)**"
      ],
      "metadata": {
        "id": "GAJ7Jw7URovs"
      }
    },
    {
      "cell_type": "code",
      "source": [
        "# Set - Unordered, no duplicates\n",
        "my_set = {1, 2, 3, 3, 4}\n",
        "print(my_set)  # Output: {1, 2, 3, 4}\n",
        "print(type(my_set))  # Output: <class 'set'>\n",
        "\n",
        "# Frozenset - Immutable set\n",
        "frozen = frozenset({5, 6, 7})\n",
        "print(type(frozen))  # Output: <class 'frozenset'>"
      ],
      "metadata": {
        "colab": {
          "base_uri": "https://localhost:8080/"
        },
        "id": "1sybTih0Rwrf",
        "outputId": "1d736b57-2405-4510-ee97-b1b9ce332f34"
      },
      "execution_count": 11,
      "outputs": [
        {
          "output_type": "stream",
          "name": "stdout",
          "text": [
            "{1, 2, 3, 4}\n",
            "<class 'set'>\n",
            "<class 'frozenset'>\n"
          ]
        }
      ]
    },
    {
      "cell_type": "markdown",
      "source": [
        "**5. Dictionary Type (Key-Value Pairs)**"
      ],
      "metadata": {
        "id": "q1BobpUySAbe"
      }
    },
    {
      "cell_type": "code",
      "source": [
        "# Dictionary - Key-value pairs\n",
        "person = {\"name\": \"John\", \"age\": 25}\n",
        "print(type(person))  # Output: <class 'dict'>"
      ],
      "metadata": {
        "colab": {
          "base_uri": "https://localhost:8080/"
        },
        "id": "Nr0P_Y_WSK78",
        "outputId": "a6a07eb6-4eca-4484-ad40-c59cbbd565f7"
      },
      "execution_count": 12,
      "outputs": [
        {
          "output_type": "stream",
          "name": "stdout",
          "text": [
            "<class 'dict'>\n"
          ]
        }
      ]
    },
    {
      "cell_type": "markdown",
      "source": [
        "**6. Boolean Type (True/False)**\n"
      ],
      "metadata": {
        "id": "fiqa3vx9SULv"
      }
    },
    {
      "cell_type": "code",
      "source": [
        "# Boolean - True or False\n",
        "is_python_fun = True\n",
        "print(type(is_python_fun))  # Output: <class 'bool'>\n",
        "\n",
        "print(10 > 5)  # Output: True\n",
        "print(10 < 5)  # Output: False\n"
      ],
      "metadata": {
        "colab": {
          "base_uri": "https://localhost:8080/"
        },
        "id": "LTQf96OIScvv",
        "outputId": "c192c158-5d42-49e1-a2bb-d565ffa50129"
      },
      "execution_count": 13,
      "outputs": [
        {
          "output_type": "stream",
          "name": "stdout",
          "text": [
            "<class 'bool'>\n",
            "True\n",
            "False\n"
          ]
        }
      ]
    },
    {
      "cell_type": "markdown",
      "source": [
        "**7. Binary Types (For Bytes and Files)**\n"
      ],
      "metadata": {
        "id": "WFyQqP49SmrZ"
      }
    },
    {
      "cell_type": "code",
      "source": [
        "# Bytes - Immutable byte sequence\n",
        "byte_data = b\"Hello\"\n",
        "print(type(byte_data))  # Output: <class 'bytes'>\n",
        "\n",
        "# Bytearray - Mutable byte sequence\n",
        "byte_arr = bytearray([65, 66, 67])\n",
        "print(type(byte_arr))  # Output: <class 'bytearray'>\n",
        "\n",
        "# Memoryview - View of a byte sequence\n",
        "mv = memoryview(byte_data)\n",
        "print(type(mv))  # Output: <class 'memoryview'>\n"
      ],
      "metadata": {
        "colab": {
          "base_uri": "https://localhost:8080/"
        },
        "id": "PO2_PPxSStql",
        "outputId": "d81628f7-2bbb-4c4e-affd-1bb41f8e7dc9"
      },
      "execution_count": 14,
      "outputs": [
        {
          "output_type": "stream",
          "name": "stdout",
          "text": [
            "<class 'bytes'>\n",
            "<class 'bytearray'>\n",
            "<class 'memoryview'>\n"
          ]
        }
      ]
    },
    {
      "cell_type": "markdown",
      "source": [
        "**8. Special Type (None)**"
      ],
      "metadata": {
        "id": "Vr8p4fRSS11g"
      }
    },
    {
      "cell_type": "code",
      "source": [
        "# NoneType - Represents nothing\n",
        "x = None\n",
        "print(type(x))  # Output: <class 'NoneType'>\n"
      ],
      "metadata": {
        "colab": {
          "base_uri": "https://localhost:8080/"
        },
        "id": "CPE5IegAS593",
        "outputId": "7a91b737-adab-40cc-c4ec-f2a1439871b2"
      },
      "execution_count": 16,
      "outputs": [
        {
          "output_type": "stream",
          "name": "stdout",
          "text": [
            "<class 'NoneType'>\n"
          ]
        }
      ]
    },
    {
      "cell_type": "markdown",
      "source": [
        "**Type Conversion in Python (Type Casting)**\n",
        "\n",
        "*1.   Implicit Conversion (Automatic by Python)*\\\n",
        "*2.   Explicit Conversion (Manual by Programmer)*\n",
        "\n"
      ],
      "metadata": {
        "id": "9PUXaoaUTnPh"
      }
    },
    {
      "cell_type": "markdown",
      "source": [
        " **1. Implicit Type Conversion**\\\n",
        " Python automatically converts smaller data types to larger ones."
      ],
      "metadata": {
        "id": "NDzJeGwl6pnr"
      }
    },
    {
      "cell_type": "code",
      "source": [
        "# Example of implicit conversion\n",
        "a = 10      # Integer\n",
        "b = 3.5     # Float\n",
        "c = a + b   # Python converts 'a' to float automatically\n",
        "\n",
        "print(c)        # Output: 13.5\n",
        "print(type(c))  # Output: <class 'float'>\n"
      ],
      "metadata": {
        "colab": {
          "base_uri": "https://localhost:8080/"
        },
        "id": "NV9dH4Vz7qkz",
        "outputId": "0c2cc41f-7b19-4d70-82f2-8906c03c56d9"
      },
      "execution_count": 17,
      "outputs": [
        {
          "output_type": "stream",
          "name": "stdout",
          "text": [
            "13.5\n",
            "<class 'float'>\n"
          ]
        }
      ]
    },
    {
      "cell_type": "markdown",
      "source": [
        "**2. Explicit Type Conversion (Manual by the User)**\\\n",
        "The user manually converts one data type into another using built-in functions."
      ],
      "metadata": {
        "id": "OD131Jvq8d_O"
      }
    },
    {
      "cell_type": "code",
      "source": [
        "num_str = \"50\"\n",
        "num_int = int(num_str)  # Convert string to integer\n",
        "\n",
        "print(num_int)        # Output: 50\n",
        "print(type(num_int))  # Output: <class 'int'>\n"
      ],
      "metadata": {
        "colab": {
          "base_uri": "https://localhost:8080/"
        },
        "id": "bNrgoyBJ8gog",
        "outputId": "0ce09fe0-627a-4697-e750-4e95dfefacda"
      },
      "execution_count": 18,
      "outputs": [
        {
          "output_type": "stream",
          "name": "stdout",
          "text": [
            "50\n",
            "<class 'int'>\n"
          ]
        }
      ]
    },
    {
      "cell_type": "code",
      "source": [
        "num_float = 10.75\n",
        "num_int = int(num_float)  # Converts float to integer (removes decimal part)\n",
        "\n",
        "print(num_int)        # Output: 10\n",
        "print(type(num_int))  # Output: <class 'int'>\n"
      ],
      "metadata": {
        "colab": {
          "base_uri": "https://localhost:8080/"
        },
        "id": "2ELP1tTv9N_P",
        "outputId": "e3753eeb-a381-4c53-b8ec-70804eb0b1cf"
      },
      "execution_count": 19,
      "outputs": [
        {
          "output_type": "stream",
          "name": "stdout",
          "text": [
            "10\n",
            "<class 'int'>\n"
          ]
        }
      ]
    },
    {
      "cell_type": "code",
      "source": [
        "num = 100\n",
        "num_str = str(num)  # Convert integer to string\n",
        "\n",
        "print(num_str)        # Output: \"100\"\n",
        "print(type(num_str))  # Output: <class 'str'>\n"
      ],
      "metadata": {
        "colab": {
          "base_uri": "https://localhost:8080/"
        },
        "id": "xjJBBPkf9gsC",
        "outputId": "e79a926a-792a-4e4c-e570-f3838324c49d"
      },
      "execution_count": 20,
      "outputs": [
        {
          "output_type": "stream",
          "name": "stdout",
          "text": [
            "100\n",
            "<class 'str'>\n"
          ]
        }
      ]
    },
    {
      "cell_type": "code",
      "source": [
        "my_list = [1, 2, 3, 4]\n",
        "my_tuple = tuple(my_list)  # Convert list to tuple\n",
        "\n",
        "print(my_tuple)        # Output: (1, 2, 3, 4)\n",
        "print(type(my_tuple))  # Output: <class 'tuple'>\n"
      ],
      "metadata": {
        "colab": {
          "base_uri": "https://localhost:8080/"
        },
        "id": "BdqJYoJA9o8j",
        "outputId": "d74c2ddf-ab3a-4a10-9d71-8b6da3cae2f2"
      },
      "execution_count": 21,
      "outputs": [
        {
          "output_type": "stream",
          "name": "stdout",
          "text": [
            "(1, 2, 3, 4)\n",
            "<class 'tuple'>\n"
          ]
        }
      ]
    },
    {
      "cell_type": "code",
      "source": [
        "my_tuple = (10, 20, 30)\n",
        "my_list = list(my_tuple)  # Convert tuple to list\n",
        "\n",
        "print(my_list)        # Output: [10, 20, 30]\n",
        "print(type(my_list))  # Output: <class 'list'>\n"
      ],
      "metadata": {
        "colab": {
          "base_uri": "https://localhost:8080/"
        },
        "id": "7pUmkf0k9r5X",
        "outputId": "d3f7af79-013d-48ed-8c33-59bf7b4e0ee7"
      },
      "execution_count": 22,
      "outputs": [
        {
          "output_type": "stream",
          "name": "stdout",
          "text": [
            "[10, 20, 30]\n",
            "<class 'list'>\n"
          ]
        }
      ]
    },
    {
      "cell_type": "code",
      "source": [
        "my_list = [1, 2, 2, 3, 4, 4]\n",
        "my_set = set(my_list)  # Convert list to set (removes duplicates)\n",
        "\n",
        "print(my_set)        # Output: {1, 2, 3, 4}\n",
        "print(type(my_set))  # Output: <class 'set'>\n"
      ],
      "metadata": {
        "colab": {
          "base_uri": "https://localhost:8080/"
        },
        "id": "CM64Ft8m9vfK",
        "outputId": "8ef88b31-8346-4298-9cc5-b9ceeb885962"
      },
      "execution_count": 23,
      "outputs": [
        {
          "output_type": "stream",
          "name": "stdout",
          "text": [
            "{1, 2, 3, 4}\n",
            "<class 'set'>\n"
          ]
        }
      ]
    },
    {
      "cell_type": "code",
      "source": [
        "print(int(True))  # Output: 1\n",
        "print(int(False)) # Output: 0\n"
      ],
      "metadata": {
        "colab": {
          "base_uri": "https://localhost:8080/"
        },
        "id": "E-bBKRE791ax",
        "outputId": "36a6edb8-fe36-4330-e803-4265c8645fe4"
      },
      "execution_count": 24,
      "outputs": [
        {
          "output_type": "stream",
          "name": "stdout",
          "text": [
            "1\n",
            "0\n"
          ]
        }
      ]
    },
    {
      "cell_type": "markdown",
      "source": [
        "**Arithmetic Operators in Python**\\\n",
        "Arithmetic operators are used to perform mathematical operations like addition, subtraction, multiplication, etc."
      ],
      "metadata": {
        "id": "bSjpi5wENC_i"
      }
    },
    {
      "cell_type": "code",
      "source": [
        "#1. Addition (+)\n",
        "a = 10\n",
        "b = 5\n",
        "result = a + b\n",
        "print(result)  # Output: 15\n"
      ],
      "metadata": {
        "colab": {
          "base_uri": "https://localhost:8080/"
        },
        "id": "t-tRYZcI98wM",
        "outputId": "ea88e3e2-444a-4a90-cbce-541dd4bd5ae0"
      },
      "execution_count": 25,
      "outputs": [
        {
          "output_type": "stream",
          "name": "stdout",
          "text": [
            "15\n"
          ]
        }
      ]
    },
    {
      "cell_type": "code",
      "source": [
        "#2. Subtraction (-)\n",
        "a = 20\n",
        "b = 8\n",
        "result = a - b\n",
        "print(result)  # Output: 12\n"
      ],
      "metadata": {
        "colab": {
          "base_uri": "https://localhost:8080/"
        },
        "id": "_apGq4-5NrBn",
        "outputId": "5cfb7094-88aa-4bdb-a80f-f1d8837cddca"
      },
      "execution_count": 26,
      "outputs": [
        {
          "output_type": "stream",
          "name": "stdout",
          "text": [
            "12\n"
          ]
        }
      ]
    },
    {
      "cell_type": "code",
      "source": [
        "#3. Multiplication (*)\n",
        "a = 7\n",
        "b = 3\n",
        "result = a * b\n",
        "print(result)  # Output: 21\n"
      ],
      "metadata": {
        "colab": {
          "base_uri": "https://localhost:8080/"
        },
        "id": "N1-rUnXEN1Hy",
        "outputId": "21e4a443-919b-4e49-92c0-cd8a591c6817"
      },
      "execution_count": 27,
      "outputs": [
        {
          "output_type": "stream",
          "name": "stdout",
          "text": [
            "21\n"
          ]
        }
      ]
    },
    {
      "cell_type": "code",
      "source": [
        "#4. Division (/)\n",
        "a = 10\n",
        "b = 4\n",
        "result = a / b\n",
        "print(result)  # Output: 2.5 (Always returns float)\n"
      ],
      "metadata": {
        "colab": {
          "base_uri": "https://localhost:8080/"
        },
        "id": "vILnjLO-N7NP",
        "outputId": "38d9b5af-d12c-4255-d2a5-f6d32fc4c324"
      },
      "execution_count": 28,
      "outputs": [
        {
          "output_type": "stream",
          "name": "stdout",
          "text": [
            "2.5\n"
          ]
        }
      ]
    },
    {
      "cell_type": "code",
      "source": [
        "#5. Floor Division (//) (Floor division removes the decimal part and gives an integer.)\n",
        "a = 10\n",
        "b = 4\n",
        "result = a // b\n",
        "print(result)  # Output: 2\n"
      ],
      "metadata": {
        "colab": {
          "base_uri": "https://localhost:8080/"
        },
        "id": "46jdeGk-OBEC",
        "outputId": "8ea21be3-6b03-4850-c953-91d52791f0f2"
      },
      "execution_count": 29,
      "outputs": [
        {
          "output_type": "stream",
          "name": "stdout",
          "text": [
            "2\n"
          ]
        }
      ]
    },
    {
      "cell_type": "code",
      "source": [
        "#6. Modulus (%)(👉 Modulus gives the remainder after division.)\n",
        "a = 10\n",
        "b = 3\n",
        "result = a % b\n",
        "print(result)  # Output: 1\n"
      ],
      "metadata": {
        "colab": {
          "base_uri": "https://localhost:8080/"
        },
        "id": "yeq4NL5KOwxT",
        "outputId": "b1371499-bed2-4fff-df63-a321c9743841"
      },
      "execution_count": 30,
      "outputs": [
        {
          "output_type": "stream",
          "name": "stdout",
          "text": [
            "1\n"
          ]
        }
      ]
    },
    {
      "cell_type": "code",
      "source": [
        "#7. Exponentiation (**)(👉 Raises one number to the power of another.)\n",
        "a = 2\n",
        "b = 3\n",
        "result = a ** b\n",
        "print(result)  # Output: 8 (2³)\n"
      ],
      "metadata": {
        "colab": {
          "base_uri": "https://localhost:8080/"
        },
        "id": "uChymy-SO42u",
        "outputId": "c230625f-77a8-4501-fbd3-724abca59d9e"
      },
      "execution_count": 31,
      "outputs": [
        {
          "output_type": "stream",
          "name": "stdout",
          "text": [
            "8\n"
          ]
        }
      ]
    },
    {
      "cell_type": "markdown",
      "source": [
        "**Comparison Operators in Python**\\\n",
        "Comparison operators are used to compare two values. They return True or False based on the comparison result."
      ],
      "metadata": {
        "id": "Uj58plv0P47_"
      }
    },
    {
      "cell_type": "code",
      "source": [
        "# ==============================\n",
        "#  COMPARISON OPERATORS IN PYTHON\n",
        "# ==============================\n",
        "\n",
        "# 1. Equal to (==)\n",
        "a = 10\n",
        "b = 10\n",
        "print(\"a == b:\", a == b)  # Output: True\n",
        "\n",
        "# 2. Not Equal to (!=)\n",
        "a = 5\n",
        "b = 8\n",
        "print(\"a != b:\", a != b)  # Output: True\n",
        "\n",
        "# 3. Greater than (>)\n",
        "a = 15\n",
        "b = 10\n",
        "print(\"a > b:\", a > b)  # Output: True\n",
        "\n",
        "# 4. Less than (<)\n",
        "a = 5\n",
        "b = 10\n",
        "print(\"a < b:\", a < b)  # Output: True\n",
        "\n",
        "# 5. Greater than or Equal to (>=)\n",
        "a = 7\n",
        "b = 7\n",
        "print(\"a >= b:\", a >= b)  # Output: True\n",
        "\n",
        "# 6. Less than or Equal to (<=)\n",
        "a = 6\n",
        "b = 10\n",
        "print(\"a <= b:\", a <= b)  # Output: True\n",
        "\n",
        "# ==============================\n",
        "#  COMPARISON WITH USER INPUT\n",
        "# ==============================\n",
        "\n",
        "x = int(input(\"Enter first number: \"))\n",
        "y = int(input(\"Enter second number: \"))\n",
        "\n",
        "print(\"x == y:\", x == y)\n",
        "print(\"x != y:\", x != y)\n",
        "print(\"x > y:\", x > y)\n",
        "print(\"x < y:\", x < y)\n",
        "print(\"x >= y:\", x >= y)\n",
        "print(\"x <= y:\", x <= y)\n",
        "\n",
        "# ==============================\n",
        "#  COMPARISON WITH STRINGS\n",
        "# ==============================\n",
        "print(\"apple\" == \"apple\")  # True\n",
        "print(\"apple\" != \"banana\")  # True\n",
        "print(\"apple\" > \"banana\")   # False (because 'a' comes before 'b')\n",
        "print(\"dog\" < \"elephant\")   # True\n",
        "\n",
        "# ==============================\n",
        "#  COMPARISON IN IF-ELSE STATEMENT\n",
        "# ==============================\n",
        "\n",
        "age = int(input(\"Enter your age: \"))\n",
        "\n",
        "if age >= 18:\n",
        "    print(\"You are eligible to vote.\")\n",
        "else:\n",
        "    print(\"You are not eligible to vote.\")\n"
      ],
      "metadata": {
        "id": "SpadEF4AkWf8"
      },
      "execution_count": null,
      "outputs": []
    },
    {
      "cell_type": "markdown",
      "source": [
        "**Logical Operators in Python**\\\n",
        "Logical operators are used to combine multiple conditions and return True or False based on the logic."
      ],
      "metadata": {
        "id": "BIuewYDohEN5"
      }
    },
    {
      "cell_type": "code",
      "source": [
        "# ==========================================================\n",
        "#                LOGICAL OPERATORS IN PYTHON\n",
        "# ==========================================================\n",
        "\n",
        "# Logical operators are used to combine multiple conditions.\n",
        "# They return True or False based on the logic.\n",
        "\n",
        "# ----------------------------------------------------------\n",
        "# 1. AND Operator (Both conditions must be True)\n",
        "# ----------------------------------------------------------\n",
        "print(\"---- AND Operator ----\")\n",
        "a, b, c = 10, 5, 20\n",
        "\n",
        "print(f\"(a > b) and (c > a): {(a > b) and (c > a)}\")  # True\n",
        "print(f\"(a > b) and (c < a): {(a > b) and (c < a)}\")  # False\n",
        "print(\"\\n\")\n",
        "\n",
        "# ----------------------------------------------------------\n",
        "# 2. OR Operator (At least one condition must be True)\n",
        "# ----------------------------------------------------------\n",
        "print(\"---- OR Operator ----\")\n",
        "print(f\"(a > b) or (c < a): {(a > b) or (c < a)}\")  # True\n",
        "print(f\"(a < b) or (c < a): {(a < b) or (c < a)}\")  # False\n",
        "print(\"\\n\")\n",
        "\n",
        "# ----------------------------------------------------------\n",
        "# 3. NOT Operator (Reverses the boolean result)\n",
        "# ----------------------------------------------------------\n",
        "print(\"---- NOT Operator ----\")\n",
        "x, y = True, False\n",
        "\n",
        "print(f\"not x: {not x}\")  # False\n",
        "print(f\"not y: {not y}\")  # True\n",
        "print(\"\\n\")\n",
        "\n",
        "# ==========================================================\n",
        "#                LOGICAL OPERATORS WITH USER INPUT\n",
        "# ==========================================================\n",
        "\n",
        "print(\"---- Voting Eligibility Check ----\")\n",
        "age = int(input(\"Enter your age: \"))\n",
        "has_voter_id = input(\"Do you have a voter ID? (yes/no): \").strip().lower() == \"yes\"\n",
        "\n",
        "if age >= 18 and has_voter_id:\n",
        "    print(\"✅ You are eligible to vote!\")\n",
        "else:\n",
        "    print(\"❌ You are NOT eligible to vote.\")\n",
        "print(\"\\n\")\n",
        "\n",
        "# ==========================================================\n",
        "#           LOGICAL OPERATORS WITH REAL-WORLD EXAMPLES\n",
        "# ==========================================================\n",
        "\n",
        "# ----------------------------------------------------------\n",
        "# 4. Weather Conditions Example\n",
        "# ----------------------------------------------------------\n",
        "print(\"---- Weather Check ----\")\n",
        "temperature = 25\n",
        "is_raining = False\n",
        "\n",
        "if temperature > 20 and not is_raining:\n",
        "    print(\"🌞 It's a nice day to go outside!\")\n",
        "else:\n",
        "    print(\"☔ Better stay indoors.\")\n",
        "print(\"\\n\")\n",
        "\n",
        "# ----------------------------------------------------------\n",
        "# 5. Grading System Example\n",
        "# ----------------------------------------------------------\n",
        "print(\"---- Grading System ----\")\n",
        "marks = int(input(\"Enter your marks: \"))\n",
        "\n",
        "if marks >= 90 and marks <= 100:\n",
        "    print(\"🎉 Grade: A (Excellent)\")\n",
        "elif marks >= 75 and marks < 90:\n",
        "    print(\"👍 Grade: B (Good)\")\n",
        "elif marks >= 50 and marks < 75:\n",
        "    print(\"🙂 Grade: C (Average)\")\n",
        "else:\n",
        "    print(\"❌ Grade: F (Fail)\")\n",
        "print(\"\\n\")\n",
        "\n",
        "# ==========================================================\n",
        "#                SUMMARY TABLE OF LOGICAL OPERATORS\n",
        "# ==========================================================\n",
        "print(\"---- Summary Table ----\")\n",
        "summary_table = \"\"\"\n",
        "---------------------------------------------------\n",
        "| Operator | Condition 1 | Condition 2 | Result   |\n",
        "|----------|------------|------------|----------|\n",
        "|   and    |   True     |   True     |  True    |\n",
        "|   and    |   True     |   False    |  False   |\n",
        "|   or     |   True     |   False    |  True    |\n",
        "|   or     |   False    |   False    |  False   |\n",
        "|   not    |   True     |     -      |  False   |\n",
        "|   not    |   False    |     -      |  True    |\n",
        "---------------------------------------------------\n",
        "\"\"\"\n",
        "print(summary_table)\n"
      ],
      "metadata": {
        "colab": {
          "base_uri": "https://localhost:8080/"
        },
        "id": "SD88G5-uhyU8",
        "outputId": "b87fcc36-05ca-47f8-cffc-e076b6fe20b2"
      },
      "execution_count": null,
      "outputs": [
        {
          "metadata": {
            "tags": null
          },
          "name": "stdout",
          "output_type": "stream",
          "text": [
            "---- AND Operator ----\n",
            "(a > b) and (c > a): True\n",
            "(a > b) and (c < a): False\n",
            "\n",
            "\n",
            "---- OR Operator ----\n",
            "(a > b) or (c < a): True\n",
            "(a < b) or (c < a): False\n",
            "\n",
            "\n",
            "---- NOT Operator ----\n",
            "not x: False\n",
            "not y: True\n",
            "\n",
            "\n",
            "---- Voting Eligibility Check ----\n"
          ]
        }
      ]
    },
    {
      "cell_type": "code",
      "source": [],
      "metadata": {
        "id": "cjTH-SrIjBq5"
      },
      "execution_count": null,
      "outputs": []
    }
  ]
}