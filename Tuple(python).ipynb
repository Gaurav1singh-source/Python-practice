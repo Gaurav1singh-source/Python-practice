{
  "nbformat": 4,
  "nbformat_minor": 0,
  "metadata": {
    "colab": {
      "provenance": [],
      "authorship_tag": "ABX9TyMP6TzGkwzdVDW+s3512EBE",
      "include_colab_link": true
    },
    "kernelspec": {
      "name": "python3",
      "display_name": "Python 3"
    },
    "language_info": {
      "name": "python"
    }
  },
  "cells": [
    {
      "cell_type": "markdown",
      "metadata": {
        "id": "view-in-github",
        "colab_type": "text"
      },
      "source": [
        "<a href=\"https://colab.research.google.com/github/Gaurav1singh-source/Python-practice/blob/main/Tuple(python).ipynb\" target=\"_parent\"><img src=\"https://colab.research.google.com/assets/colab-badge.svg\" alt=\"Open In Colab\"/></a>"
      ]
    },
    {
      "cell_type": "markdown",
      "source": [
        "**Tuple in Python**\\\n",
        "A tuple is an ordered, immutable (unchangeable) collection used to store multiple items in a single variable. Tuples are similar to lists, but they cannot be changed after creation.\\\n",
        "(Immutable means that once a tuple is created, you cannot change, add, or remove elements.)"
      ],
      "metadata": {
        "id": "v1odV-Na7MJH"
      }
    },
    {
      "cell_type": "markdown",
      "source": [
        "**Creating a Tuple**\\\n",
        "You can create a tuple using parentheses () or the tuple() constructor."
      ],
      "metadata": {
        "id": "pav9HWl-ALqP"
      }
    },
    {
      "cell_type": "code",
      "source": [
        "# Creating a tuple\n",
        "my_tuple = (1, 2, 3, \"Hello\", 5.5)\n",
        "\n",
        "# Single-element tuple (comma is required)\n",
        "single_element_tuple = (10,)\n",
        "\n",
        "# Tuple without parentheses (packing)\n",
        "another_tuple = 1, 2, 3, 4\n",
        "\n",
        "# Nested tuple\n",
        "nested_tuple = (1, (2, 3), [4, 5])\n",
        "\n",
        "print(my_tuple)\n",
        "print(single_element_tuple)\n",
        "print(another_tuple)\n",
        "print(nested_tuple)\n"
      ],
      "metadata": {
        "colab": {
          "base_uri": "https://localhost:8080/"
        },
        "id": "lE--WpQf_Yvn",
        "outputId": "fb064bb9-3476-4c55-ef94-ce5470c10d4a"
      },
      "execution_count": 6,
      "outputs": [
        {
          "output_type": "stream",
          "name": "stdout",
          "text": [
            "(1, 2, 3, 'Hello', 5.5)\n",
            "(10,)\n",
            "(1, 2, 3, 4)\n",
            "(1, (2, 3), [4, 5])\n"
          ]
        }
      ]
    },
    {
      "cell_type": "code",
      "source": [
        "# using tuple() constructor.\n",
        "my_tuple = tuple([1, 2, 3])  # Converts a list to a tuple\n",
        "print(my_tuple)"
      ],
      "metadata": {
        "colab": {
          "base_uri": "https://localhost:8080/"
        },
        "id": "eI_GFH2n9a7M",
        "outputId": "7275f6fb-fbdb-4103-cf65-91925b41d376"
      },
      "execution_count": 9,
      "outputs": [
        {
          "output_type": "stream",
          "name": "stdout",
          "text": [
            "(1, 2, 3)\n"
          ]
        }
      ]
    },
    {
      "cell_type": "markdown",
      "source": [
        " **Accessing Tuple Elements** \\\n",
        "Tuples are indexed starting from 0, just like lists."
      ],
      "metadata": {
        "id": "j59x74KkAzEc"
      }
    },
    {
      "cell_type": "code",
      "source": [
        "my_tuple = (10, 20, 30, 40, 50)\n",
        "\n",
        "print(my_tuple[0])\n",
        "print(my_tuple[2])\n",
        "print(my_tuple[-1])\n"
      ],
      "metadata": {
        "colab": {
          "base_uri": "https://localhost:8080/"
        },
        "id": "bUM7hqmbBQmG",
        "outputId": "411f60c0-3fd0-4bde-bf38-7f438bc62bd9"
      },
      "execution_count": 10,
      "outputs": [
        {
          "output_type": "stream",
          "name": "stdout",
          "text": [
            "10\n",
            "30\n",
            "50\n"
          ]
        }
      ]
    },
    {
      "cell_type": "markdown",
      "source": [
        " **Tuple is Immutable (Cannot Change Elements)**"
      ],
      "metadata": {
        "id": "GBDwXr-oBhL6"
      }
    },
    {
      "cell_type": "code",
      "source": [
        "#my_tuple = (1, 2, 3)\n",
        "#my_tuple[0] = 10  # ❌ This will give an error (TypeError)\n"
      ],
      "metadata": {
        "id": "GVxmzfAxBVD3"
      },
      "execution_count": 12,
      "outputs": []
    },
    {
      "cell_type": "code",
      "source": [],
      "metadata": {
        "id": "J1MG4nytBsHU"
      },
      "execution_count": null,
      "outputs": []
    },
    {
      "cell_type": "markdown",
      "source": [
        "**Slicing a Tuple**"
      ],
      "metadata": {
        "id": "33vPqJumD20O"
      }
    },
    {
      "cell_type": "code",
      "source": [
        "my_tuple = (1, 2, 3, 4, 5, 6)\n",
        "\n",
        "print(my_tuple[1:4])   # Output: (2, 3, 4)\n",
        "print(my_tuple[:3])    # Output: (1, 2, 3)\n",
        "print(my_tuple[3:])    # Output: (4, 5, 6)\n",
        "print(my_tuple[::-1])  # Output: (6, 5, 4, 3, 2, 1) (Reversed)\n"
      ],
      "metadata": {
        "colab": {
          "base_uri": "https://localhost:8080/"
        },
        "id": "KTFRCUH0D87c",
        "outputId": "07481756-a6ca-44f5-843c-085d1e0e56c9"
      },
      "execution_count": 13,
      "outputs": [
        {
          "output_type": "stream",
          "name": "stdout",
          "text": [
            "(2, 3, 4)\n",
            "(1, 2, 3)\n",
            "(4, 5, 6)\n",
            "(6, 5, 4, 3, 2, 1)\n"
          ]
        }
      ]
    },
    {
      "cell_type": "code",
      "source": [
        "print(my_tuple[2:4])"
      ],
      "metadata": {
        "colab": {
          "base_uri": "https://localhost:8080/"
        },
        "id": "E-9YOtSTEBdd",
        "outputId": "8cbe950c-b927-453c-f2d7-b059241f4219"
      },
      "execution_count": 14,
      "outputs": [
        {
          "output_type": "stream",
          "name": "stdout",
          "text": [
            "(3, 4)\n"
          ]
        }
      ]
    },
    {
      "cell_type": "markdown",
      "source": [
        "**Tuple Methods**\\\n",
        "Tuples have only two built-in methods:"
      ],
      "metadata": {
        "id": "67ife-GTEhM2"
      }
    },
    {
      "cell_type": "code",
      "source": [
        "my_tuple = (1, 2, 3, 2, 4, 2, 5)\n",
        "\n",
        "print(my_tuple.count(2))  # Output: 3 (Counts occurrences of 2)\n",
        "print(my_tuple.index(4))  # Output: 4 (Finds index of first occurrence of 4)\n"
      ],
      "metadata": {
        "colab": {
          "base_uri": "https://localhost:8080/"
        },
        "id": "983KOAJhEOB8",
        "outputId": "14036e09-1698-4ddc-86ce-214afb0193e9"
      },
      "execution_count": 15,
      "outputs": [
        {
          "output_type": "stream",
          "name": "stdout",
          "text": [
            "3\n",
            "4\n"
          ]
        }
      ]
    },
    {
      "cell_type": "code",
      "source": [],
      "metadata": {
        "id": "1PzawYNwExPe"
      },
      "execution_count": null,
      "outputs": []
    },
    {
      "cell_type": "markdown",
      "source": [
        "**Tuple operation**\n",
        "\n"
      ],
      "metadata": {
        "id": "bsF_ceqHFA7q"
      }
    },
    {
      "cell_type": "code",
      "source": [
        "t1 = (1, 2, 3)\n",
        "t2 = (4, 5, 6)\n",
        "t3 = t1 + t2\n",
        "print(t3)  # Output: (1, 2, 3, 4, 5, 6)\n",
        "\n",
        "t = (1, 2) * 3\n",
        "print(t)  # Output: (1, 2, 1, 2, 1, 2)\n"
      ],
      "metadata": {
        "colab": {
          "base_uri": "https://localhost:8080/"
        },
        "id": "Nszlxw9XFHb4",
        "outputId": "ed74df50-0bd5-41f7-a98b-2f4ed8398b61"
      },
      "execution_count": 16,
      "outputs": [
        {
          "output_type": "stream",
          "name": "stdout",
          "text": [
            "(1, 2, 3, 4, 5, 6)\n",
            "(1, 2, 1, 2, 1, 2)\n"
          ]
        }
      ]
    },
    {
      "cell_type": "markdown",
      "source": [
        "**Checking Membership**"
      ],
      "metadata": {
        "id": "YYLHYSf9Foqh"
      }
    },
    {
      "cell_type": "code",
      "source": [
        "my_tuple = (1, 2, 3, 4, 5)\n",
        "\n",
        "print(3 in my_tuple)   # Output: True\n",
        "print(10 in my_tuple)  # Output: False\n"
      ],
      "metadata": {
        "colab": {
          "base_uri": "https://localhost:8080/"
        },
        "id": "wpJln0A8FQ0b",
        "outputId": "f4486c8c-1778-4aae-fb30-1f1c78992283"
      },
      "execution_count": 17,
      "outputs": [
        {
          "output_type": "stream",
          "name": "stdout",
          "text": [
            "True\n",
            "False\n"
          ]
        }
      ]
    },
    {
      "cell_type": "code",
      "source": [
        "print(4 in my_tuple)"
      ],
      "metadata": {
        "colab": {
          "base_uri": "https://localhost:8080/"
        },
        "id": "6ZEVWbdzFt9t",
        "outputId": "f82edf20-6dbc-4780-c0fc-7b12878c1825"
      },
      "execution_count": 20,
      "outputs": [
        {
          "output_type": "stream",
          "name": "stdout",
          "text": [
            "True\n"
          ]
        }
      ]
    },
    {
      "cell_type": "code",
      "source": [
        "print(40 in my_tuple)"
      ],
      "metadata": {
        "colab": {
          "base_uri": "https://localhost:8080/"
        },
        "id": "9ED9ZLIwFy8N",
        "outputId": "c105466a-7dc5-4b26-82bc-0710f5233064"
      },
      "execution_count": 21,
      "outputs": [
        {
          "output_type": "stream",
          "name": "stdout",
          "text": [
            "False\n"
          ]
        }
      ]
    },
    {
      "cell_type": "markdown",
      "source": [
        "**Looping Through a Tuple**"
      ],
      "metadata": {
        "id": "JEXJ32Y4GCU_"
      }
    },
    {
      "cell_type": "code",
      "source": [
        "my_tuple = (\"Apple\", \"Banana\", \"Cherry\")\n",
        "\n",
        "for fruit in my_tuple:\n",
        "    print(fruit)\n"
      ],
      "metadata": {
        "colab": {
          "base_uri": "https://localhost:8080/"
        },
        "id": "z1jsIRhbF-bL",
        "outputId": "a74be42c-8374-4f21-803b-e23123bd2217"
      },
      "execution_count": 22,
      "outputs": [
        {
          "output_type": "stream",
          "name": "stdout",
          "text": [
            "Apple\n",
            "Banana\n",
            "Cherry\n"
          ]
        }
      ]
    },
    {
      "cell_type": "code",
      "source": [
        "my_tuple = (10, 20, 30)\n",
        "i = 0\n",
        "\n",
        "while i < len(my_tuple):\n",
        "    print(my_tuple[i])\n",
        "    i += 1\n"
      ],
      "metadata": {
        "colab": {
          "base_uri": "https://localhost:8080/"
        },
        "id": "N2H65L2EGHml",
        "outputId": "6cc253ed-ae56-4742-85b8-a983906dd828"
      },
      "execution_count": 23,
      "outputs": [
        {
          "output_type": "stream",
          "name": "stdout",
          "text": [
            "10\n",
            "20\n",
            "30\n"
          ]
        }
      ]
    },
    {
      "cell_type": "markdown",
      "source": [
        "**Tuple Packing and Unpacking**"
      ],
      "metadata": {
        "id": "KiHMxUWfGpQm"
      }
    },
    {
      "cell_type": "code",
      "source": [
        "#packing\n",
        "my_tuple = (\"John\", 25, \"Engineer\")\n"
      ],
      "metadata": {
        "id": "3k2IjvhmGTT9"
      },
      "execution_count": 30,
      "outputs": []
    },
    {
      "cell_type": "code",
      "source": [
        "#unpacking\n",
        "name, age, profession = my_tuple\n",
        "print(name)       # Output: John\n",
        "print(age)        # Output: 25\n",
        "print(profession) # Output: Engineer\n"
      ],
      "metadata": {
        "colab": {
          "base_uri": "https://localhost:8080/"
        },
        "id": "fzGe5mJRGwvi",
        "outputId": "935261c7-3779-489d-bc0f-ecc79e985c4c"
      },
      "execution_count": 31,
      "outputs": [
        {
          "output_type": "stream",
          "name": "stdout",
          "text": [
            "John\n",
            "25\n",
            "Engineer\n"
          ]
        }
      ]
    },
    {
      "cell_type": "code",
      "source": [
        "name, age, profession = my_tuple\n",
        "print(age)       # Output: 25\n",
        "print(name)        # Output: john\n",
        "print(profession) # Output: Engineer\n"
      ],
      "metadata": {
        "colab": {
          "base_uri": "https://localhost:8080/"
        },
        "id": "QjZ-0XSKGzpx",
        "outputId": "d1a8c9aa-3469-4983-8bba-5e3fe33b418f"
      },
      "execution_count": 33,
      "outputs": [
        {
          "output_type": "stream",
          "name": "stdout",
          "text": [
            "25\n",
            "John\n",
            "Engineer\n"
          ]
        }
      ]
    },
    {
      "cell_type": "markdown",
      "source": [
        "**nested tuple**"
      ],
      "metadata": {
        "id": "FVNOKMbyHFZj"
      }
    },
    {
      "cell_type": "code",
      "source": [
        "nested_tuple = (1, (2, 3), (4, 5, 6))\n",
        "print(nested_tuple[1])       # Output: (2, 3)\n",
        "print(nested_tuple[2][1])    # Output: 5\n"
      ],
      "metadata": {
        "colab": {
          "base_uri": "https://localhost:8080/"
        },
        "id": "QCYUspy8HNhl",
        "outputId": "5e01eda5-eb54-49f8-f3b7-60a4e64c2683"
      },
      "execution_count": 34,
      "outputs": [
        {
          "output_type": "stream",
          "name": "stdout",
          "text": [
            "(2, 3)\n",
            "5\n"
          ]
        }
      ]
    },
    {
      "cell_type": "markdown",
      "source": [
        "**Converting Between Tuples and Lists**"
      ],
      "metadata": {
        "id": "1DpuoueNHbdM"
      }
    },
    {
      "cell_type": "code",
      "source": [
        "# Convert tuple to list\n",
        "t = (1, 2, 3)\n",
        "lst = list(t)\n",
        "print(lst)  # Output: [1, 2, 3]\n",
        "\n",
        "# Convert list to tuple\n",
        "lst = [4, 5, 6]\n",
        "t = tuple(lst)\n",
        "print(t)  # Output: (4, 5, 6)\n"
      ],
      "metadata": {
        "colab": {
          "base_uri": "https://localhost:8080/"
        },
        "id": "k41s1coxHPqc",
        "outputId": "785138c2-616f-40d3-c46f-f932f24ec2c9"
      },
      "execution_count": 35,
      "outputs": [
        {
          "output_type": "stream",
          "name": "stdout",
          "text": [
            "[1, 2, 3]\n",
            "(4, 5, 6)\n"
          ]
        }
      ]
    },
    {
      "cell_type": "code",
      "source": [
        " #When to Use Tuples?\n",
        "#When you don’t want data to be changed (e.g., database records).\n",
        "#Tuples are faster and use less memory than lists.\n",
        "#Tuples can be used as keys in dictionaries, unlike lists."
      ],
      "metadata": {
        "id": "iwrBklL0Hi1a"
      },
      "execution_count": 36,
      "outputs": []
    },
    {
      "cell_type": "code",
      "source": [],
      "metadata": {
        "id": "9aur2u5cHz24"
      },
      "execution_count": null,
      "outputs": []
    },
    {
      "cell_type": "markdown",
      "source": [
        "**Key Takeaways**\\\n",
        "✅ Tuples are ordered and immutable.\\\n",
        "✅ Use count() and index() for operations.\\\n",
        "✅ Supports slicing, looping, membership checks.\\\n",
        "✅ Tuples are faster than lists and take less memory.\\"
      ],
      "metadata": {
        "id": "-mS2TBBbH06T"
      }
    },
    {
      "cell_type": "code",
      "source": [],
      "metadata": {
        "id": "WaszeUIjH3ah"
      },
      "execution_count": null,
      "outputs": []
    }
  ]
}