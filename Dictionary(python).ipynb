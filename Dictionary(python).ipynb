{
  "nbformat": 4,
  "nbformat_minor": 0,
  "metadata": {
    "colab": {
      "provenance": [],
      "authorship_tag": "ABX9TyNsRwu4PNRJTTDEDWQHaKeu",
      "include_colab_link": true
    },
    "kernelspec": {
      "name": "python3",
      "display_name": "Python 3"
    },
    "language_info": {
      "name": "python"
    }
  },
  "cells": [
    {
      "cell_type": "markdown",
      "metadata": {
        "id": "view-in-github",
        "colab_type": "text"
      },
      "source": [
        "<a href=\"https://colab.research.google.com/github/Gaurav1singh-source/Python-practice/blob/main/Dictionary(python).ipynb\" target=\"_parent\"><img src=\"https://colab.research.google.com/assets/colab-badge.svg\" alt=\"Open In Colab\"/></a>"
      ]
    },
    {
      "cell_type": "markdown",
      "source": [
        "**Creating a Dictionary**\\\n",
        "A dictionary is defined using curly {} brackets, with keys and values separated by colons :."
      ],
      "metadata": {
        "id": "cY-4S-XoyXW6"
      }
    },
    {
      "cell_type": "code",
      "execution_count": 6,
      "metadata": {
        "colab": {
          "base_uri": "https://localhost:8080/"
        },
        "id": "fuhDvTHzjVll",
        "outputId": "e616f137-d55c-4faa-d784-233ad2597ae4"
      },
      "outputs": [
        {
          "output_type": "stream",
          "name": "stdout",
          "text": [
            "{'name': 'gaurav', 'age': 24, 'grade': 'A'}\n"
          ]
        }
      ],
      "source": [
        "# Creating a dictionary\n",
        "student = {\n",
        "    \"name\": \"gaurav\",\n",
        "    \"age\": 24,\n",
        "    \"grade\": \"A\"\n",
        "}\n",
        "\n",
        "print(student)  # Output: {'name': 'gaurav', 'age': 24, 'grade': 'A'}\n"
      ]
    },
    {
      "cell_type": "markdown",
      "source": [
        "**Accessing Values**\\\n",
        "se the key inside square brackets [] or the .get() method"
      ],
      "metadata": {
        "id": "CKFJgy0c09ky"
      }
    },
    {
      "cell_type": "code",
      "source": [
        "print(student[\"name\"])   # Output: gaurav\n",
        "print(student.get(\"age\"))  # Output: 24\n"
      ],
      "metadata": {
        "colab": {
          "base_uri": "https://localhost:8080/"
        },
        "id": "c_K8qZG30iTS",
        "outputId": "45caa0f1-6a91-4f5e-bbc2-f8d063548b2a"
      },
      "execution_count": 3,
      "outputs": [
        {
          "output_type": "stream",
          "name": "stdout",
          "text": [
            "gaurav\n",
            "24\n"
          ]
        }
      ]
    },
    {
      "cell_type": "markdown",
      "source": [
        "Adding and Updating Values"
      ],
      "metadata": {
        "id": "nDaFlDY31SuG"
      }
    },
    {
      "cell_type": "code",
      "source": [
        "student[\"city\"] = \"New York\"  # Adding a new key-value pair\n",
        "student[\"age\"] = 21  # Updating an existing value\n",
        "\n",
        "print(student)\n",
        "\n"
      ],
      "metadata": {
        "colab": {
          "base_uri": "https://localhost:8080/"
        },
        "id": "N75f28db1JJN",
        "outputId": "fd2f2e06-2fda-4a96-b855-b583ca17d468"
      },
      "execution_count": 4,
      "outputs": [
        {
          "output_type": "stream",
          "name": "stdout",
          "text": [
            "{'name': 'gaurav', 'age': 21, 'grade': 'A', 'city': 'New York'}\n"
          ]
        }
      ]
    },
    {
      "cell_type": "markdown",
      "source": [
        "**Removing Items**"
      ],
      "metadata": {
        "id": "HNBr3ixCMkUN"
      }
    },
    {
      "cell_type": "code",
      "source": [
        "student = {\"name\": \"John\", \"age\": 20, \"grade\": \"A\"}\n",
        "removed_value = student.pop(\"age\")\n",
        "\n",
        "print(student)  # Output: {'name': 'John', 'grade': 'A'}\n",
        "print(removed_value)  # Output: 20\n"
      ],
      "metadata": {
        "colab": {
          "base_uri": "https://localhost:8080/"
        },
        "id": "PDnq8mxnQaHo",
        "outputId": "5056978c-eb3b-4fd1-a522-38b2501b3ab4"
      },
      "execution_count": 28,
      "outputs": [
        {
          "output_type": "stream",
          "name": "stdout",
          "text": [
            "{'name': 'John', 'grade': 'A'}\n",
            "20\n"
          ]
        }
      ]
    },
    {
      "cell_type": "markdown",
      "source": [
        " **Looping Through Dictionay**"
      ],
      "metadata": {
        "id": "OGcN_VsnPaXO"
      }
    },
    {
      "cell_type": "code",
      "source": [
        "for key, value in student.items():\n",
        "    print(key, \":\", value)\n"
      ],
      "metadata": {
        "colab": {
          "base_uri": "https://localhost:8080/"
        },
        "id": "OFpm6nmCOZf6",
        "outputId": "520ae3ca-eb62-480f-fa1c-1341f0000747"
      },
      "execution_count": 26,
      "outputs": [
        {
          "output_type": "stream",
          "name": "stdout",
          "text": [
            "name : gaurav\n",
            "age : 24\n"
          ]
        }
      ]
    },
    {
      "cell_type": "code",
      "source": [
        "if \"name\" in student:\n",
        "    print(\"Key exists!\")  # Output: Key exists!\n"
      ],
      "metadata": {
        "colab": {
          "base_uri": "https://localhost:8080/"
        },
        "id": "dWAoyH93P4xv",
        "outputId": "5c1b35b3-df3c-4c36-c942-63966707871b"
      },
      "execution_count": 27,
      "outputs": [
        {
          "output_type": "stream",
          "name": "stdout",
          "text": [
            "Key exists!\n"
          ]
        }
      ]
    },
    {
      "cell_type": "markdown",
      "source": [
        "**✅ Summary**\\\n",
        "\n",
        "Dictionary stores data in key-value pairs.\\\n",
        "Keys must be unique and immutable (like strings, numbers, tuples).\\\n",
        "Values can be any data type.\\\n",
        "Fast lookup and modification.\n",
        "\n",
        "\n",
        "\n",
        "\n",
        "\n",
        "\n",
        "\n",
        "\n"
      ],
      "metadata": {
        "id": "18syxHZLO0T5"
      }
    },
    {
      "cell_type": "code",
      "source": [],
      "metadata": {
        "id": "DkExsHWVPE12"
      },
      "execution_count": null,
      "outputs": []
    }
  ]
}